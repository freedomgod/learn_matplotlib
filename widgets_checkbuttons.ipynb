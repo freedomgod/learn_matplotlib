{
 "cells": [
  {
   "cell_type": "code",
   "execution_count": 1,
   "id": "147830d0-2a76-44f7-a0ec-58981e7b4e36",
   "metadata": {},
   "outputs": [
    {
     "name": "stdout",
     "output_type": "stream",
     "text": [
      "Using matplotlib backend: Qt5Agg\n"
     ]
    }
   ],
   "source": [
    "%matplotlib auto\n",
    "import numpy as np\n",
    "import pandas as pd\n",
    "import matplotlib.pyplot as plt\n",
    "from matplotlib.widgets import CheckButtons\n",
    "plt.rcParams['font.sans-serif'] = ['SimHei'] #用来正常显示中文标签\n",
    "plt.rcParams['axes.unicode_minus'] = False #用来正常显示负号"
   ]
  },
  {
   "cell_type": "code",
   "execution_count": 2,
   "id": "c6170214-1965-4aa9-af72-096b21889774",
   "metadata": {},
   "outputs": [],
   "source": [
    "t = np.arange(0.0, 2.0, 0.01)\n",
    "s0 = np.sin(2*np.pi*t)\n",
    "s1 = np.sin(4*np.pi*t)\n",
    "s2 = np.sin(6*np.pi*t)\n",
    "\n",
    "fig, ax = plt.subplots()\n",
    "l0, = ax.plot(t, s0, visible=False, lw=2, color='k', label='2 Hz')\n",
    "l1, = ax.plot(t, s1, lw=2, color='r', label='4 Hz')\n",
    "l2, = ax.plot(t, s2, lw=2, color='g', label='6 Hz')\n",
    "plt.subplots_adjust(left=0.2)\n",
    "\n",
    "lines = [l0, l1, l2]\n",
    "\n",
    "# Make checkbuttons with all plotted lines with correct visibility\n",
    "rax = plt.axes([0.05, 0.4, 0.1, 0.15])\n",
    "labels = [str(line.get_label()) for line in lines]\n",
    "visibility = [line.get_visible() for line in lines]\n",
    "check = CheckButtons(rax, labels, visibility)\n",
    "\n",
    "\n",
    "def func(label):\n",
    "    index = labels.index(label)\n",
    "    lines[index].set_visible(not lines[index].get_visible())\n",
    "    plt.draw()\n",
    "\n",
    "check.on_clicked(func)\n",
    "\n",
    "plt.show()"
   ]
  },
  {
   "cell_type": "code",
   "execution_count": 2,
   "id": "63159237-c7f4-420a-97c2-2a8ca695f55a",
   "metadata": {},
   "outputs": [
    {
     "data": {
      "text/plain": [
       "<pandas.core.groupby.generic.DataFrameGroupBy object at 0x0000025CB909E310>"
      ]
     },
     "execution_count": 2,
     "metadata": {},
     "output_type": "execute_result"
    }
   ],
   "source": [
    "order = pd.read_csv('total_order.csv')\n",
    "sales_gp = order[['sales', 'weekday']].groupby(by='weekday')\n",
    "sales_gp"
   ]
  },
  {
   "cell_type": "code",
   "execution_count": 3,
   "id": "54b157ea-ed41-4b49-9979-413664cdad79",
   "metadata": {},
   "outputs": [
    {
     "name": "stdout",
     "output_type": "stream",
     "text": [
      "һ\n",
      "      sales weekday\n",
      "217    48.0       һ\n",
      "218    48.0       һ\n",
      "219    65.0       һ\n",
      "220   109.0       һ\n",
      "221    48.0       һ\n",
      "...     ...     ...\n",
      "9847    2.0       һ\n",
      "9848   13.0       һ\n",
      "9849   32.0       һ\n",
      "9850   35.0       һ\n",
      "9851   29.0       һ\n",
      "\n",
      "[721 rows x 2 columns]\n",
      "��\n",
      "       sales weekday\n",
      "0       49.0      ��\n",
      "1       48.0      ��\n",
      "2       30.0      ��\n",
      "3       25.0      ��\n",
      "4       13.0      ��\n",
      "...      ...     ...\n",
      "10032   35.0      ��\n",
      "10033   36.0      ��\n",
      "10034   39.0      ��\n",
      "10035    7.0      ��\n",
      "10036   27.0      ��\n",
      "\n",
      "[9316 rows x 2 columns]\n"
     ]
    }
   ],
   "source": [
    "for i, j in sales_gp:\n",
    "    print(i)\n",
    "    print(j)"
   ]
  }
 ],
 "metadata": {
  "kernelspec": {
   "display_name": "Python 3",
   "language": "python",
   "name": "python3"
  },
  "language_info": {
   "codemirror_mode": {
    "name": "ipython",
    "version": 3
   },
   "file_extension": ".py",
   "mimetype": "text/x-python",
   "name": "python",
   "nbconvert_exporter": "python",
   "pygments_lexer": "ipython3",
   "version": "3.9.2"
  }
 },
 "nbformat": 4,
 "nbformat_minor": 5
}
