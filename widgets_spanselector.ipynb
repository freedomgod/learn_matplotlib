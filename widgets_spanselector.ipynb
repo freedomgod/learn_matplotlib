{
 "cells": [
  {
   "cell_type": "code",
   "execution_count": 27,
   "id": "696dccec-b307-48b0-b204-4f6081d030ce",
   "metadata": {},
   "outputs": [
    {
     "name": "stdout",
     "output_type": "stream",
     "text": [
      "Using matplotlib backend: Qt5Agg\n"
     ]
    }
   ],
   "source": [
    "%matplotlib auto\n",
    "\n",
    "import numpy as np\n",
    "import pandas as pd\n",
    "import random\n",
    "import matplotlib.pyplot as plt\n",
    "from matplotlib.widgets import SpanSelector\n",
    "from matplotlib.backend_bases import MouseButton"
   ]
  },
  {
   "cell_type": "code",
   "execution_count": 29,
   "id": "6d772f08-450a-4ab8-b43e-f02f7a76f841",
   "metadata": {},
   "outputs": [],
   "source": [
    "# 例子\n",
    "fig1, ax1 = plt.subplots(1, 2, figsize=(8, 5), dpi=100)  # 创建1x2画布和轴\n",
    "x1 = np.arange(0, 2*np.pi, 0.1)\n",
    "y1 = np.sin(x1)\n",
    "ax1[0].plot(x1, y1)  # 在第一个区域画sin曲线\n",
    "\n",
    "line, = ax1[1].plot([], [])  # 第二个区域用于显示选择器选择的放大效果，这里返回Line2D的句柄\n",
    "\n",
    "def onselect(xmin, xmax):\n",
    "    '''\n",
    "    对选择的范围内的值调用函数\n",
    "    '''\n",
    "    indmin, indmax = np.searchsorted(x1, (xmin, xmax))  # 选择的区域在原X1坐标的位置\n",
    "    indmax = min(len(x1) - 1, indmax)\n",
    "\n",
    "    region_x = x1[indmin:indmax]\n",
    "    region_y = y1[indmin:indmax]  # 得到选择的区域的坐标数据\n",
    "\n",
    "    if len(region_x) >= 2:  # 选择的区域内值数量>=2\n",
    "        line.set_data(region_x, region_y)\n",
    "        ax1[1].set_xlim(region_x[0], region_x[-1])\n",
    "        ax1[1].set_ylim(region_y.min(), region_y.max())\n",
    "        fig1.canvas.draw()\n",
    "\n",
    "rectprops = dict(facecolor='blue', alpha=0.5)  # 选择的区域矩形属性\n",
    "span = SpanSelector(ax1[0], onselect, direction='horizontal',\n",
    "                    rectprops=rectprops, useblit=True, span_stays=True)\n",
    "plt.show()"
   ]
  },
  {
   "cell_type": "code",
   "execution_count": 14,
   "id": "1239b328-1e27-499a-ab52-39db156bf832",
   "metadata": {},
   "outputs": [],
   "source": []
  },
  {
   "cell_type": "code",
   "execution_count": 16,
   "id": "7f10732d-c465-4aeb-93ec-e32250b0da28",
   "metadata": {},
   "outputs": [
    {
     "data": {
      "text/plain": [
       "array([0. , 0.1, 0.2, 0.3, 0.4, 0.5, 0.6, 0.7, 0.8, 0.9, 1. , 1.1, 1.2,\n",
       "       1.3, 1.4, 1.5, 1.6, 1.7, 1.8, 1.9, 2. , 2.1, 2.2, 2.3, 2.4, 2.5,\n",
       "       2.6, 2.7, 2.8, 2.9, 3. , 3.1, 3.2, 3.3, 3.4, 3.5, 3.6, 3.7, 3.8,\n",
       "       3.9, 4. , 4.1, 4.2, 4.3, 4.4, 4.5, 4.6, 4.7, 4.8, 4.9, 5. , 5.1,\n",
       "       5.2, 5.3, 5.4, 5.5, 5.6, 5.7, 5.8, 5.9, 6. , 6.1, 6.2])"
      ]
     },
     "execution_count": 16,
     "metadata": {},
     "output_type": "execute_result"
    }
   ],
   "source": []
  }
 ],
 "metadata": {
  "kernelspec": {
   "display_name": "Python 3",
   "language": "python",
   "name": "python3"
  },
  "language_info": {
   "codemirror_mode": {
    "name": "ipython",
    "version": 3
   },
   "file_extension": ".py",
   "mimetype": "text/x-python",
   "name": "python",
   "nbconvert_exporter": "python",
   "pygments_lexer": "ipython3",
   "version": "3.9.2"
  }
 },
 "nbformat": 4,
 "nbformat_minor": 5
}
