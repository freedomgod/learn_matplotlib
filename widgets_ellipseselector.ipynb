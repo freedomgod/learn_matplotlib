{
 "cells": [
  {
   "cell_type": "code",
   "execution_count": 3,
   "id": "9b003ea3-df1e-4e7d-8f38-9d1c00da6bd5",
   "metadata": {},
   "outputs": [
    {
     "name": "stdout",
     "output_type": "stream",
     "text": [
      "Using matplotlib backend: Qt5Agg\n"
     ]
    }
   ],
   "source": [
    "%matplotlib auto\n",
    "import numpy as np\n",
    "import matplotlib.pyplot as plt\n",
    "from matplotlib.widgets import EllipseSelector"
   ]
  },
  {
   "cell_type": "code",
   "execution_count": 4,
   "id": "a2ee1206-0210-412d-878a-5ad7ec8f0a76",
   "metadata": {},
   "outputs": [
    {
     "name": "stdout",
     "output_type": "stream",
     "text": [
      "startposition: (0.486694, 0.404570)\n",
      "endposition  : (0.635282, 0.536575)\n",
      "used button  :  MouseButton.LEFT\n",
      "startposition: (0.080847, 0.103832)\n",
      "endposition  : (0.211694, 0.158627)\n",
      "used button  :  MouseButton.LEFT\n",
      "startposition: (0.142944, 0.111359)\n",
      "endposition  : (0.262702, 0.171135)\n",
      "used button  :  MouseButton.RIGHT\n",
      " Key pressed.\n",
      " Key pressed.\n",
      "startposition: (0.389113, 0.664662)\n",
      "endposition  : (0.389113, 0.664662)\n",
      "used button  :  MouseButton.LEFT\n",
      "startposition: (0.360282, 0.566991)\n",
      "endposition  : (0.360282, 0.566991)\n",
      "used button  :  MouseButton.LEFT\n",
      "startposition: (0.415726, 0.294014)\n",
      "endposition  : (0.415726, 0.294014)\n",
      "used button  :  MouseButton.LEFT\n"
     ]
    }
   ],
   "source": [
    "def onselect(eclick, erelease):\n",
    "    \"eclick and erelease are matplotlib events at press and release.\"\n",
    "    print('startposition: (%f, %f)' % (eclick.xdata, eclick.ydata))\n",
    "    print('endposition  : (%f, %f)' % (erelease.xdata, erelease.ydata))\n",
    "    print('used button  : ', eclick.button)\n",
    "\n",
    "def toggle_selector(event):\n",
    "    print(' Key pressed.')\n",
    "    if event.key in ['Q', 'q'] and toggle_selector.ES.active:\n",
    "        print('EllipseSelector deactivated.')\n",
    "        toggle_selector.RS.set_active(False)\n",
    "    if event.key in ['A', 'a'] and not toggle_selector.ES.active:\n",
    "        print('EllipseSelector activated.')\n",
    "        toggle_selector.ES.set_active(True)\n",
    "\n",
    "x = np.arange(100.) / 99\n",
    "y = np.sin(x)\n",
    "fig, ax = plt.subplots()\n",
    "ax.plot(x, y)\n",
    "\n",
    "toggle_selector.ES = EllipseSelector(ax, onselect, drawtype='line')\n",
    "fig.canvas.mpl_connect('key_press_event', toggle_selector)\n",
    "plt.show()"
   ]
  }
 ],
 "metadata": {
  "kernelspec": {
   "display_name": "Python 3",
   "language": "python",
   "name": "python3"
  },
  "language_info": {
   "codemirror_mode": {
    "name": "ipython",
    "version": 3
   },
   "file_extension": ".py",
   "mimetype": "text/x-python",
   "name": "python",
   "nbconvert_exporter": "python",
   "pygments_lexer": "ipython3",
   "version": "3.9.2"
  }
 },
 "nbformat": 4,
 "nbformat_minor": 5
}
