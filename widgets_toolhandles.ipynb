{
 "cells": [
  {
   "cell_type": "code",
   "execution_count": 1,
   "id": "d6e7de2a-b247-4b38-8290-b56b3fc2fabe",
   "metadata": {},
   "outputs": [
    {
     "name": "stdout",
     "output_type": "stream",
     "text": [
      "Using matplotlib backend: Qt5Agg\n"
     ]
    }
   ],
   "source": [
    "%matplotlib auto\n",
    "\n",
    "import pandas as pd\n",
    "import random\n",
    "import matplotlib.pyplot as plt\n",
    "from matplotlib.widgets import ToolHandles"
   ]
  },
  {
   "cell_type": "code",
   "execution_count": 2,
   "id": "d08cf738-6e9a-43e1-8733-cdb4abb194e5",
   "metadata": {},
   "outputs": [],
   "source": [
    "fig, ax = plt.subplots(1, 2, dpi=100)\n",
    "x1 = [2, 3, 4, 5, 6]\n",
    "y1 = [1, 3, 5, 7, 9]\n",
    "ax[0].plot(x1, y1)\n",
    "ax[1].plot(x1, y1)\n",
    "handle = ToolHandles(ax[1], x1, y1)\n",
    "\n",
    "plt.show()"
   ]
  }
 ],
 "metadata": {
  "kernelspec": {
   "display_name": "Python 3",
   "language": "python",
   "name": "python3"
  },
  "language_info": {
   "codemirror_mode": {
    "name": "ipython",
    "version": 3
   },
   "file_extension": ".py",
   "mimetype": "text/x-python",
   "name": "python",
   "nbconvert_exporter": "python",
   "pygments_lexer": "ipython3",
   "version": "3.9.2"
  }
 },
 "nbformat": 4,
 "nbformat_minor": 5
}
