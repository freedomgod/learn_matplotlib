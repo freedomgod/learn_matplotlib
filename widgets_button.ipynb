{
 "cells": [
  {
   "cell_type": "code",
   "execution_count": 1,
   "id": "45af15cd-6c3b-475b-abc2-ee1f4e1762a8",
   "metadata": {},
   "outputs": [
    {
     "name": "stdout",
     "output_type": "stream",
     "text": [
      "Using matplotlib backend: Qt5Agg\n"
     ]
    }
   ],
   "source": [
    "%matplotlib auto\n",
    "import numpy as np\n",
    "from PIL import Image\n",
    "import matplotlib.pyplot as plt\n",
    "from matplotlib.widgets import Button"
   ]
  },
  {
   "cell_type": "code",
   "execution_count": 3,
   "id": "2eb2d7bd-2b2b-4d7d-96b5-6e41041ae8b7",
   "metadata": {},
   "outputs": [],
   "source": [
    "freqs = np.arange(2, 20, 3)\n",
    "\n",
    "fig, ax = plt.subplots()\n",
    "plt.subplots_adjust(bottom=0.2)\n",
    "t = np.arange(0.0, 1.0, 0.001)\n",
    "s = np.sin(2*np.pi*freqs[0]*t)\n",
    "l, = plt.plot(t, s, lw=2)\n",
    "\n",
    "\n",
    "class Index:\n",
    "    ind = 0\n",
    "\n",
    "    def next(self, event):\n",
    "        self.ind += 1\n",
    "        i = self.ind % len(freqs)\n",
    "        ydata = np.sin(2*np.pi*freqs[i]*t)\n",
    "        l.set_ydata(ydata)\n",
    "        plt.draw()\n",
    "\n",
    "    def prev(self, event):\n",
    "        self.ind -= 1\n",
    "        i = self.ind % len(freqs)\n",
    "        ydata = np.sin(2*np.pi*freqs[i]*t)\n",
    "        l.set_ydata(ydata)\n",
    "        plt.draw()\n",
    "\n",
    "callback = Index()\n",
    "axprev = plt.axes([0.7, 0.05, 0.1, 0.075])\n",
    "axnext = plt.axes([0.81, 0.05, 0.1, 0.075])\n",
    "bnext = Button(axnext, 'Next')\n",
    "bnext.on_clicked(callback.next)\n",
    "bprev = Button(axprev, 'Previous')\n",
    "bprev.on_clicked(callback.prev)\n",
    "\n",
    "plt.show()"
   ]
  },
  {
   "cell_type": "code",
   "execution_count": 2,
   "id": "cef5db97-9d67-4f6d-ba6a-aa88e829fadd",
   "metadata": {},
   "outputs": [],
   "source": [
    "x = np.random.randint(1, 20, 5)\n",
    "y = np.random.randint(1, 20, 5)\n",
    "\n",
    "fig, ax = plt.subplots(figsize=(8, 10))\n",
    "axes, = ax.plot(x, y)\n",
    "\n",
    "ig_path = r'C:\\Users\\DELL\\Pictures\\Saved Pictures\\butterfly\\man-5800290_1280.png'\n",
    "img = Image.open(ig_path)\n",
    "axrand = plt.axes([0.5, 0.90, 0.1, 0.075])  # [左, 下, 宽, 高]\n",
    "btn = Button(axrand, 'Rand', image=img)\n",
    "def clicked_func(event):\n",
    "    x1 = np.random.randint(1, 20, 5)\n",
    "    y1 = np.random.randint(1, 20, 5)\n",
    "    ax.set_xlim((min(x1) - 1, max(x1) + 1))\n",
    "    ax.set_ylim((min(y1) - 1, max(y1) + 1))\n",
    "    axes.set_xdata(x1)\n",
    "    axes.set_ydata(y1)\n",
    "btn.on_clicked(clicked_func)\n",
    "\n",
    "plt.show()"
   ]
  }
 ],
 "metadata": {
  "kernelspec": {
   "display_name": "Python 3",
   "language": "python",
   "name": "python3"
  },
  "language_info": {
   "codemirror_mode": {
    "name": "ipython",
    "version": 3
   },
   "file_extension": ".py",
   "mimetype": "text/x-python",
   "name": "python",
   "nbconvert_exporter": "python",
   "pygments_lexer": "ipython3",
   "version": "3.9.2"
  }
 },
 "nbformat": 4,
 "nbformat_minor": 5
}
