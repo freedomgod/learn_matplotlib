{
 "cells": [
  {
   "cell_type": "code",
   "execution_count": 3,
   "id": "93b334c4-aa53-4d51-a10d-c0502db228bb",
   "metadata": {},
   "outputs": [
    {
     "name": "stdout",
     "output_type": "stream",
     "text": [
      "Using matplotlib backend: Qt5Agg\n"
     ]
    }
   ],
   "source": [
    "%matplotlib auto\n",
    "\n",
    "import numpy as np\n",
    "import pandas as pd\n",
    "import random\n",
    "import matplotlib.pyplot as plt\n",
    "from matplotlib.widgets import PolygonSelector\n",
    "from matplotlib.path import Path"
   ]
  },
  {
   "cell_type": "code",
   "execution_count": 18,
   "id": "fff8be81-4825-432f-83db-24258224f854",
   "metadata": {},
   "outputs": [
    {
     "name": "stdout",
     "output_type": "stream",
     "text": [
      "[(4.727419354838709, 11.800000000000002), (15.851612903225805, 16.53333333333333), (16.383870967741935, 7.466666666666667), (3.662903225806451, 5.2666666666666675), (4.408064516129032, 15.266666666666667), (3.1838709677419352, 9.533333333333335)]\n",
      "[(4.727419354838709, 11.800000000000002), (15.851612903225805, 16.53333333333333), (16.383870967741935, 7.466666666666667), (3.662903225806451, 5.2666666666666675), (4.408064516129032, 15.266666666666667), (3.1838709677419352, 9.533333333333335)]\n"
     ]
    }
   ],
   "source": [
    "x = np.random.randint(1, 35, 10)\n",
    "y = np.random.randint(1, 35, 10)  # 随机生成散点\n",
    "fig, ax = plt.subplots(figsize=(8, 6), dpi=100)  # 创建画布\n",
    "\n",
    "def onselect(verts):\n",
    "    print(verts)  # 没有做过多处理，直接打印选择的区域坐标\n",
    "\n",
    "ax.grid()\n",
    "ax.plot(x, y, '.')\n",
    "\n",
    "poly = PolygonSelector(ax, onselect)  # 创建选择器\n",
    "\n",
    "plt.show()"
   ]
  },
  {
   "cell_type": "code",
   "execution_count": 19,
   "id": "6c0c684a-8aec-4586-9462-97d15889e2fa",
   "metadata": {},
   "outputs": [],
   "source": [
    "# 官方的例子\n",
    "class SelectFromCollection: # 创建选择器对象\n",
    "    def __init__(self, ax, collection, alpha_other=0.3):  # 初始化需要坐标轴对象ax和PathCollection对象\n",
    "        self.canvas = ax.figure.canvas\n",
    "        self.collection = collection\n",
    "        self.alpha_other = alpha_other  # 这个参数是设定没有选择到的点的透明度，选择到的点就是0\n",
    "\n",
    "        self.xys = collection.get_offsets()  # 获取偏移\n",
    "        self.Npts = len(self.xys)\n",
    "\n",
    "        # Ensure that we have separate colors for each object\n",
    "        self.fc = collection.get_facecolors()  # 前景颜色\n",
    "        if len(self.fc) == 0:\n",
    "            raise ValueError('Collection must have a facecolor')\n",
    "        elif len(self.fc) == 1:\n",
    "            self.fc = np.tile(self.fc, (self.Npts, 1))\n",
    "\n",
    "        self.poly = PolygonSelector(ax, self.onselect)\n",
    "        self.ind = []\n",
    "\n",
    "    def onselect(self, verts):  # 识别选择到的点，重新画图\n",
    "        path = Path(verts)\n",
    "        self.ind = np.nonzero(path.contains_points(self.xys))[0]\n",
    "        self.fc[:, -1] = self.alpha_other\n",
    "        self.fc[self.ind, -1] = 1\n",
    "        self.collection.set_facecolors(self.fc)\n",
    "        self.canvas.draw_idle()\n",
    "\n",
    "    def disconnect(self):  # 取消选择器连接\n",
    "        self.poly.disconnect_events()\n",
    "        self.fc[:, -1] = 1\n",
    "        self.collection.set_facecolors(self.fc)\n",
    "        self.canvas.draw_idle()\n",
    "\n",
    "\n",
    "fig, ax = plt.subplots()\n",
    "grid_size = 5\n",
    "grid_x = np.tile(np.arange(grid_size), grid_size)\n",
    "grid_y = np.repeat(np.arange(grid_size), grid_size)\n",
    "pts = ax.scatter(grid_x, grid_y)\n",
    "\n",
    "selector = SelectFromCollection(ax, pts)\n",
    "\n",
    "plt.show()\n"
   ]
  }
 ],
 "metadata": {
  "kernelspec": {
   "display_name": "Python 3",
   "language": "python",
   "name": "python3"
  },
  "language_info": {
   "codemirror_mode": {
    "name": "ipython",
    "version": 3
   },
   "file_extension": ".py",
   "mimetype": "text/x-python",
   "name": "python",
   "nbconvert_exporter": "python",
   "pygments_lexer": "ipython3",
   "version": "3.9.2"
  }
 },
 "nbformat": 4,
 "nbformat_minor": 5
}
