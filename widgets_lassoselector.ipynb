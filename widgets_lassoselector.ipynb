{
 "cells": [
  {
   "cell_type": "code",
   "execution_count": 1,
   "id": "929c9738-0042-4d6f-bdf9-be99ff8ff866",
   "metadata": {},
   "outputs": [
    {
     "name": "stdout",
     "output_type": "stream",
     "text": [
      "Using matplotlib backend: Qt5Agg\n"
     ]
    }
   ],
   "source": [
    "%matplotlib auto\n",
    "\n",
    "import numpy as np\n",
    "import pandas as pd\n",
    "import random\n",
    "import matplotlib.pyplot as plt\n",
    "from matplotlib.widgets import LassoSelector\n",
    "from matplotlib.path import Path"
   ]
  },
  {
   "cell_type": "code",
   "execution_count": 2,
   "id": "60c92c7a-65e9-4987-8c8f-94074366ebe2",
   "metadata": {},
   "outputs": [
    {
     "name": "stdout",
     "output_type": "stream",
     "text": [
      "[(2.8274193548387103, 9.366666666666665), (2.8274193548387103, 9.2), (2.72983870967742, 8.616666666666665), (2.6322580645161295, 7.699999999999999), (2.6322580645161295, 7.116666666666665), (2.5834677419354843, 6.866666666666665), (2.5834677419354843, 6.616666666666665), (2.5834677419354843, 6.199999999999999), (2.5834677419354843, 6.033333333333332), (2.5834677419354843, 5.949999999999999), (2.5834677419354843, 5.866666666666665), (2.6322580645161295, 5.699999999999999), (2.6810483870967747, 5.699999999999999), (2.6810483870967747, 5.616666666666665), (2.778629032258065, 5.449999999999999), (2.9250000000000007, 5.449999999999999), (2.973790322580646, 5.449999999999999), (3.0713709677419354, 5.449999999999999), (3.168951612903226, 5.449999999999999), (3.3153225806451614, 5.533333333333332), (3.3641129032258066, 5.616666666666665), (3.461693548387097, 5.866666666666665), (3.5592741935483874, 5.949999999999999), (3.6080645161290326, 6.116666666666665), (3.754435483870968, 6.283333333333331), (3.754435483870968, 6.366666666666665), (3.8032258064516133, 6.616666666666665), (3.8032258064516133, 6.783333333333331), (3.8032258064516133, 6.949999999999999), (3.8520161290322585, 6.949999999999999), (3.8520161290322585, 7.366666666666665), (3.9008064516129037, 7.616666666666665), (3.9008064516129037, 7.699999999999999), (3.949596774193549, 8.033333333333331), (3.949596774193549, 8.2), (3.949596774193549, 8.283333333333331), (3.949596774193549, 8.7), (3.949596774193549, 8.95), (3.949596774193549, 9.116666666666665), (3.949596774193549, 9.366666666666665), (3.8520161290322585, 9.533333333333331), (3.705645161290323, 9.616666666666665), (3.6568548387096778, 9.7), (3.6080645161290326, 9.7), (3.461693548387097, 9.7), (3.266532258064516, 9.7), (3.1201612903225806, 9.616666666666665), (2.973790322580646, 9.533333333333331), (2.8762096774193555, 9.366666666666665), (2.8274193548387103, 9.366666666666665), (2.72983870967742, 9.116666666666665), (2.72983870967742, 9.116666666666665)]\n"
     ]
    }
   ],
   "source": [
    "x = np.random.randint(1, 35, 10)\n",
    "y = np.random.randint(1, 35, 10)\n",
    "ax = plt.subplot()\n",
    "ax.plot(x, y)\n",
    "\n",
    "def onselect(verts):\n",
    "    print(verts)\n",
    "\n",
    "lasso = LassoSelector(ax, onselect)\n",
    "plt.show()"
   ]
  },
  {
   "cell_type": "code",
   "execution_count": 3,
   "id": "e34c6c06-1635-4fb8-9ce7-49529ce57d10",
   "metadata": {},
   "outputs": [],
   "source": [
    "class SelectFromCollection:\n",
    "    def __init__(self, ax, collection, alpha_other=0.3):\n",
    "        self.canvas = ax.figure.canvas\n",
    "        self.collection = collection\n",
    "        self.alpha_other = alpha_other\n",
    "\n",
    "        self.xys = collection.get_offsets()\n",
    "        self.Npts = len(self.xys)\n",
    "\n",
    "        # Ensure that we have separate colors for each object\n",
    "        self.fc = collection.get_facecolors()\n",
    "        if len(self.fc) == 0:\n",
    "            raise ValueError('Collection must have a facecolor')\n",
    "        elif len(self.fc) == 1:\n",
    "            self.fc = np.tile(self.fc, (self.Npts, 1))\n",
    "\n",
    "        self.lasso = LassoSelector(ax, onselect=self.onselect)\n",
    "        self.ind = []\n",
    "\n",
    "    def onselect(self, verts):\n",
    "        path = Path(verts)\n",
    "        self.ind = np.nonzero(path.contains_points(self.xys))[0]\n",
    "        self.fc[:, -1] = self.alpha_other\n",
    "        self.fc[self.ind, -1] = 1\n",
    "        self.collection.set_facecolors(self.fc)\n",
    "        self.canvas.draw_idle()\n",
    "\n",
    "    def disconnect(self):\n",
    "        self.lasso.disconnect_events()\n",
    "        self.fc[:, -1] = 1\n",
    "        self.collection.set_facecolors(self.fc)\n",
    "        self.canvas.draw_idle()\n",
    "\n",
    "\n",
    "# Fixing random state for reproducibility\n",
    "np.random.seed(19680801)\n",
    "\n",
    "data = np.random.rand(100, 2)\n",
    "\n",
    "subplot_kw = dict(xlim=(0, 1), ylim=(0, 1), autoscale_on=False)\n",
    "fig, ax = plt.subplots(subplot_kw=subplot_kw)\n",
    "\n",
    "pts = ax.scatter(data[:, 0], data[:, 1], s=80)\n",
    "selector = SelectFromCollection(ax, pts)\n",
    "\n",
    "def accept(event):\n",
    "    if event.key == \"enter\":\n",
    "        print(\"Selected points:\")\n",
    "        print(selector.xys[selector.ind])\n",
    "        selector.disconnect()\n",
    "        ax.set_title(\"\")\n",
    "        fig.canvas.draw()\n",
    "\n",
    "fig.canvas.mpl_connect(\"key_press_event\", accept)\n",
    "ax.set_title(\"Press enter to accept selected points.\")\n",
    "\n",
    "plt.show()"
   ]
  }
 ],
 "metadata": {
  "kernelspec": {
   "display_name": "Python 3",
   "language": "python",
   "name": "python3"
  },
  "language_info": {
   "codemirror_mode": {
    "name": "ipython",
    "version": 3
   },
   "file_extension": ".py",
   "mimetype": "text/x-python",
   "name": "python",
   "nbconvert_exporter": "python",
   "pygments_lexer": "ipython3",
   "version": "3.9.2"
  }
 },
 "nbformat": 4,
 "nbformat_minor": 5
}
